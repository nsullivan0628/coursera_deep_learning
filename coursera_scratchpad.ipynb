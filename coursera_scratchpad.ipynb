{
  "nbformat": 4,
  "nbformat_minor": 0,
  "metadata": {
    "colab": {
      "name": "coursera_scratchpad.ipynb",
      "provenance": [],
      "authorship_tag": "ABX9TyNFwmWETtmVoxAzlK0lP3YG",
      "include_colab_link": true
    },
    "kernelspec": {
      "name": "python3",
      "display_name": "Python 3"
    },
    "language_info": {
      "name": "python"
    }
  },
  "cells": [
    {
      "cell_type": "markdown",
      "metadata": {
        "id": "view-in-github",
        "colab_type": "text"
      },
      "source": [
        "<a href=\"https://colab.research.google.com/github/nsullivan0628/coursera_deep_learning/blob/main/coursera_scratchpad.ipynb\" target=\"_parent\"><img src=\"https://colab.research.google.com/assets/colab-badge.svg\" alt=\"Open In Colab\"/></a>"
      ]
    },
    {
      "cell_type": "code",
      "execution_count": null,
      "metadata": {
        "colab": {
          "base_uri": "https://localhost:8080/"
        },
        "id": "13maT-SJbCXq",
        "outputId": "bcbb416e-c952-4715-b88e-8f9e254c7cf7"
      },
      "outputs": [
        {
          "output_type": "stream",
          "name": "stdout",
          "text": [
            "[1 2 3 4 5]\n"
          ]
        }
      ],
      "source": [
        "import numpy as np\n",
        "\n",
        "a = np.array([1,2,3,4,5])\n",
        "print(a)"
      ]
    },
    {
      "cell_type": "code",
      "source": [
        "import time\n",
        "\n",
        "a = np.random.rand(1000000)\n",
        "b = np.random.rand(1000000)\n",
        "\n",
        "tic = time.time()\n",
        "c = np.dot(a,b)\n",
        "toc = time.time()\n",
        "\n",
        "print(\"Vectorized time: \" + str(1000*(toc-tic)) + \"ms\")\n",
        "print(\"C vectorized = \" + str(c))"
      ],
      "metadata": {
        "colab": {
          "base_uri": "https://localhost:8080/"
        },
        "id": "hdB0eZ9JbZy7",
        "outputId": "31c8c92f-9455-4b4b-a1a2-8ff58cd41dd2"
      },
      "execution_count": null,
      "outputs": [
        {
          "output_type": "stream",
          "name": "stdout",
          "text": [
            "Vectorized time: 4.738092422485352ms\n",
            "C vectorized = 249957.2041015621\n"
          ]
        }
      ]
    },
    {
      "cell_type": "code",
      "source": [
        "c = 0\n",
        "tic = time.time()\n",
        "for i in range(1000000):\n",
        "  c += a[i]*b[i]\n",
        "\n",
        "toc = time.time()\n",
        "\n",
        "print(\"Loop time: \" + str(1000*(toc-tic)) + \"ms\")\n",
        "print(\"C Loop = \" + str(c))\n"
      ],
      "metadata": {
        "colab": {
          "base_uri": "https://localhost:8080/"
        },
        "id": "EfsMQDn-bc6z",
        "outputId": "31bdd2b4-b8f9-4199-903e-67b12c8e2a96"
      },
      "execution_count": null,
      "outputs": [
        {
          "output_type": "stream",
          "name": "stdout",
          "text": [
            "Loop time: 356.83393478393555ms\n",
            "C Loop = 249957.20410157138\n"
          ]
        }
      ]
    },
    {
      "cell_type": "code",
      "source": [
        "# now this is a test to "
      ],
      "metadata": {
        "id": "MW_P-4TJFvDs"
      },
      "execution_count": 1,
      "outputs": []
    },
    {
      "cell_type": "code",
      "source": [
        ""
      ],
      "metadata": {
        "id": "y87WjhyPFwgx"
      },
      "execution_count": null,
      "outputs": []
    }
  ]
}